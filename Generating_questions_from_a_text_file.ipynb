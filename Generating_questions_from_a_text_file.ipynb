{
  "cells": [
    {
      "cell_type": "markdown",
      "metadata": {
        "id": "view-in-github",
        "colab_type": "text"
      },
      "source": [
        "<a href=\"https://colab.research.google.com/github/Geniustayo32/CHATBOT/blob/main/Generating_questions_from_a_text_file.ipynb\" target=\"_parent\"><img src=\"https://colab.research.google.com/assets/colab-badge.svg\" alt=\"Open In Colab\"/></a>"
      ]
    },
    {
      "cell_type": "code",
      "execution_count": null,
      "id": "a520fea5",
      "metadata": {
        "id": "a520fea5",
        "outputId": "eafe5302-6958-4dbb-ce15-1e82a009af25"
      },
      "outputs": [
        {
          "name": "stdout",
          "output_type": "stream",
          "text": [
            "['The scalp temple and face are important areas of the head and therefore need to be studied thoroughly', ' The injuries are frequently inflicted in these areas The nature of injuries varies from superficial wounds to deep cuts The scalp and temple are covered by thick hair hence lesions at these sites go unnoticed for quite sometime by the people Infection from these regions can travel inside cranial cavity through venous channels leading to fatal consequences The face is the commonest site for plastic surgery done to enhance the beauty or to repair congenital defects and defects produced by the injuries The simple inspection of face provides a substantial clue to a number of underlying bodily diseases Also the face being the exposed part of the body is prone to sun allergy and skin cancer', 'The term scalp is applied to the soft tissues covering the vault of skull', 'Extent It extends anteriorly up to the eyebrows (superciliary arches), posteriorly up to the superior nuchal lines, and laterally on each side up to superior temporal lineAccording to some authorities, scalp extends laterally on each side, up to the zygomatic arch', 'The scalp consists of five layers', ' From superficial to deep these are as follows 1', ' Skin', '2', ' Connective tissue (superficial fascia)', '3', ' Aponeurosis (occipitofrontalis muscle and its aponeurosis)', 'Superior temporal lineSuperior nuchal  Extent of the scalp', '4', ' Loose areolar tissue', ' 5', ' Pericranium', 'ScalpSuperciliary archThe sequence of the layers of scalp can be easily remem- bered by a perfect mnemonic SCALP derived by using initial letter of each layer', 'Skin: The skin of scalp is thick and hairy except over the forehead', ' It is firmly adherent to epicranial aponeurosis by dense connective tissue of superficial fascia, as in palms and soles', ' Being hairy it contains maximum number of hair follicles and associated sebaceous glands', ' As a result, scalp is the commonest site of sebaceous cysts', ' It also contains numerous sweat glands', 'It has been estimated that there are about 1,20,000 hair on the scalp of an adult individual', ' About 20-100 hair are lost daily and replaced concomitantly', ' The baldness (loss of hair) mainly affects males and few elderly females with high level of androgenic hormones in their blood', '']\n",
            "{'The scalp temple and face are important areas of the head and therefore need to be studied thoroughly': 'Passed', ' The injuries are frequently inflicted in these areas The nature of injuries varies from superficial wounds to deep cuts The scalp and temple are covered by thick hair hence lesions at these sites go unnoticed for quite sometime by the people Infection from these regions can travel inside cranial cavity through venous channels leading to fatal consequences The face is the commonest site for plastic surgery done to enhance the beauty or to repair congenital defects and defects produced by the injuries The simple inspection of face provides a substantial clue to a number of underlying bodily diseases Also the face being the exposed part of the body is prone to sun allergy and skin cancer': 'Passed', 'The term scalp is applied to the soft tissues covering the vault of skull': 'Passed', 'Extent It extends anteriorly up to the eyebrows (superciliary arches), posteriorly up to the superior nuchal lines, and laterally on each side up to superior temporal lineAccording to some authorities, scalp extends laterally on each side, up to the zygomatic arch': 'Passed', 'The scalp consists of five layers': 'Passed', ' From superficial to deep these are as follows 1': 'Passed', ' Skin': 'Passed', '2': 'Passed', ' Connective tissue (superficial fascia)': 'Passed', '3': 'Passed', ' Aponeurosis (occipitofrontalis muscle and its aponeurosis)': 'Passed', 'Superior temporal lineSuperior nuchal  Extent of the scalp': 'Passed', '4': 'Passed', ' Loose areolar tissue': 'Passed', ' 5': 'Passed', ' Pericranium': 'Passed', 'ScalpSuperciliary archThe sequence of the layers of scalp can be easily remem- bered by a perfect mnemonic SCALP derived by using initial letter of each layer': 'Passed', 'Skin: The skin of scalp is thick and hairy except over the forehead': 'Passed', ' It is firmly adherent to epicranial aponeurosis by dense connective tissue of superficial fascia, as in palms and soles': 'Passed', ' Being hairy it contains maximum number of hair follicles and associated sebaceous glands': 'Passed', ' As a result, scalp is the commonest site of sebaceous cysts': 'Passed', ' It also contains numerous sweat glands': 'Passed', 'It has been estimated that there are about 1,20,000 hair on the scalp of an adult individual': 'Passed', ' About 20-100 hair are lost daily and replaced concomitantly': 'Passed', ' The baldness (loss of hair) mainly affects males and few elderly females with high level of androgenic hormones in their blood': 'Passed', '': 'Passed'}\n",
            " -P\n",
            " -a\n",
            " -d\n",
            " -e\n",
            " -s\n",
            " -s\n",
            "The scalp temple and face are important areas of the head and therefore need to be studied thoroughly? NO\n",
            "The answer is 'P', not'NO'\n",
            " -P\n",
            " -a\n",
            " -d\n",
            " -e\n",
            " -s\n",
            " -s\n",
            " The injuries are frequently inflicted in these areas The nature of injuries varies from superficial wounds to deep cuts The scalp and temple are covered by thick hair hence lesions at these sites go unnoticed for quite sometime by the people Infection from these regions can travel inside cranial cavity through venous channels leading to fatal consequences The face is the commonest site for plastic surgery done to enhance the beauty or to repair congenital defects and defects produced by the injuries The simple inspection of face provides a substantial clue to a number of underlying bodily diseases Also the face being the exposed part of the body is prone to sun allergy and skin cancer? YES\n",
            "The answer is 'P', not'YES'\n",
            " -P\n",
            " -a\n",
            " -d\n",
            " -e\n",
            " -s\n",
            " -s\n",
            "The term scalp is applied to the soft tissues covering the vault of skull? YES\n",
            "The answer is 'P', not'YES'\n",
            " -P\n",
            " -a\n",
            " -d\n",
            " -e\n",
            " -s\n",
            " -s\n",
            "Extent It extends anteriorly up to the eyebrows (superciliary arches), posteriorly up to the superior nuchal lines, and laterally on each side up to superior temporal lineAccording to some authorities, scalp extends laterally on each side, up to the zygomatic arch? TR\n",
            "The answer is 'P', not'TR'\n",
            " -P\n",
            " -a\n",
            " -d\n",
            " -e\n",
            " -s\n",
            " -s\n",
            "The scalp consists of five layers? YES\n",
            "The answer is 'P', not'YES'\n",
            " -P\n",
            " -a\n",
            " -d\n",
            " -e\n",
            " -s\n",
            " -s\n"
          ]
        }
      ],
      "source": [
        "#opening the file in read mode\n",
        "my_file = open(r'''C:\\Users\\PC\\FISHBOWL\\Screenshot_2-png (1).txt''')\n",
        "\n",
        "# reading the file\n",
        "data = my_file.read()\n",
        "\n",
        "#replacing end of line('/n') with '' and\n",
        "#splitting the text it further when '.' is seen.\n",
        "\n",
        "data = data.replace('\\n', '').split(\".\")\n",
        "\n",
        "# printing the data\n",
        "print(data)\n",
        "my_file.close()\n",
        "\n",
        "student = tuple(data)\n",
        "\n",
        "student_dictionary = {stu : \"Passed\" for stu in student}\n",
        "print(student_dictionary)\n",
        "\n",
        "\n",
        "for question, alternatives in student_dictionary.items():\n",
        "    correct_answer = alternatives[0]\n",
        "    for alternative in sorted(alternatives):\n",
        "        print(f\" -{alternative}\")\n",
        "\n",
        "    answer = input(f\"{question}? \")\n",
        "    if answer == correct_answer:\n",
        "        print(\"Correct!\")\n",
        "    else:\n",
        "        print(f\"The answer is {correct_answer!r}, not{answer!r}\")"
      ]
    },
    {
      "cell_type": "code",
      "execution_count": null,
      "id": "7856661b",
      "metadata": {
        "id": "7856661b"
      },
      "outputs": [],
      "source": []
    }
  ],
  "metadata": {
    "kernelspec": {
      "display_name": "Python 3 (ipykernel)",
      "language": "python",
      "name": "python3"
    },
    "language_info": {
      "codemirror_mode": {
        "name": "ipython",
        "version": 3
      },
      "file_extension": ".py",
      "mimetype": "text/x-python",
      "name": "python",
      "nbconvert_exporter": "python",
      "pygments_lexer": "ipython3",
      "version": "3.9.16"
    },
    "colab": {
      "provenance": [],
      "include_colab_link": true
    }
  },
  "nbformat": 4,
  "nbformat_minor": 5
}